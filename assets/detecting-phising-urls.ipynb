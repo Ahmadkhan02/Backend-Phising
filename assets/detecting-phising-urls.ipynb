{
 "cells": [
  {
   "cell_type": "code",
   "execution_count": 2,
   "id": "a060c04d",
   "metadata": {
    "execution": {
     "iopub.execute_input": "2022-06-16T13:43:26.513572Z",
     "iopub.status.busy": "2022-06-16T13:43:26.512880Z",
     "iopub.status.idle": "2022-06-16T13:43:39.052201Z",
     "shell.execute_reply": "2022-06-16T13:43:39.050974Z"
    },
    "papermill": {
     "duration": 12.55121,
     "end_time": "2022-06-16T13:43:39.055089",
     "exception": false,
     "start_time": "2022-06-16T13:43:26.503879",
     "status": "completed"
    },
    "tags": []
   },
   "outputs": [
    {
     "name": "stdout",
     "output_type": "stream",
     "text": [
      "Requirement already satisfied: tld in c:\\users\\kahma\\anaconda3\\lib\\site-packages (0.13)\n"
     ]
    }
   ],
   "source": [
    "!pip install tld"
   ]
  },
  {
   "cell_type": "code",
   "execution_count": 3,
   "id": "75043580",
   "metadata": {
    "execution": {
     "iopub.execute_input": "2022-06-16T13:43:39.073584Z",
     "iopub.status.busy": "2022-06-16T13:43:39.072884Z",
     "iopub.status.idle": "2022-06-16T13:43:40.736987Z",
     "shell.execute_reply": "2022-06-16T13:43:40.735929Z"
    },
    "papermill": {
     "duration": 1.676313,
     "end_time": "2022-06-16T13:43:40.739323",
     "exception": false,
     "start_time": "2022-06-16T13:43:39.063010",
     "status": "completed"
    },
    "tags": []
   },
   "outputs": [],
   "source": [
    "import re\n",
    "import numpy as np\n",
    "import pandas as pd\n",
    "import seaborn as sns\n",
    "import matplotlib.pyplot as plt\n",
    "from sklearn import tree\n",
    "\n",
    "from colorama import Fore  #Colorama is a module to color the python outputs\n",
    "\n",
    "from urllib.parse import urlparse\n",
    "# This module defines a standard interface to break Uniform Resource Locator (URL) \n",
    "# strings up in components (addressing scheme, network location, path etc.), \n",
    "# to combine the components back into a URL string, \n",
    "# and to convert a “relative URL” to an absolute URL given a “base URL.”\n",
    "\n",
    "from sklearn.model_selection import train_test_split\n",
    "from sklearn.metrics import confusion_matrix, classification_report, accuracy_score\n",
    "from sklearn.tree import DecisionTreeClassifier\n",
    "from sklearn.ensemble import RandomForestClassifier\n",
    "from sklearn.neighbors import KNeighborsClassifier\n",
    "from sklearn.linear_model import SGDClassifier\n",
    "from sklearn.naive_bayes import GaussianNB\n",
    "from tld import get_tld, is_tld"
   ]
  },
  {
   "cell_type": "markdown",
   "id": "7e4b8b5a",
   "metadata": {
    "papermill": {
     "duration": 0.006442,
     "end_time": "2022-06-16T13:43:40.753075",
     "exception": false,
     "start_time": "2022-06-16T13:43:40.746633",
     "status": "completed"
    },
    "tags": []
   },
   "source": [
    "clean the dataset "
   ]
  },
  {
   "cell_type": "code",
   "execution_count": 4,
   "id": "f81803e1",
   "metadata": {
    "execution": {
     "iopub.execute_input": "2022-06-16T13:43:40.768582Z",
     "iopub.status.busy": "2022-06-16T13:43:40.767926Z",
     "iopub.status.idle": "2022-06-16T13:43:42.247453Z",
     "shell.execute_reply": "2022-06-16T13:43:42.246598Z"
    },
    "papermill": {
     "duration": 1.489807,
     "end_time": "2022-06-16T13:43:42.249672",
     "exception": false,
     "start_time": "2022-06-16T13:43:40.759865",
     "status": "completed"
    },
    "tags": []
   },
   "outputs": [],
   "source": [
    "data = pd.read_csv('./malicious_phish.csv')\n",
    "data2=data.copy()"
   ]
  },
  {
   "cell_type": "code",
   "execution_count": 5,
   "id": "938cc70b",
   "metadata": {
    "execution": {
     "iopub.execute_input": "2022-06-16T13:43:42.265512Z",
     "iopub.status.busy": "2022-06-16T13:43:42.264490Z",
     "iopub.status.idle": "2022-06-16T13:43:42.503700Z",
     "shell.execute_reply": "2022-06-16T13:43:42.502658Z"
    },
    "papermill": {
     "duration": 0.249425,
     "end_time": "2022-06-16T13:43:42.505971",
     "exception": false,
     "start_time": "2022-06-16T13:43:42.256546",
     "status": "completed"
    },
    "tags": []
   },
   "outputs": [],
   "source": [
    "# deleting the defacements\n",
    "indexNames = data2[ data2['type'] == 'defacement' ].index\n",
    "# Delete these row indexes from dataFrame\n",
    "data2.drop(indexNames , inplace=True)\n",
    "\n",
    "# deleting the malwares\n",
    "indexNames = data2[ data2['type'] == 'malware' ].index\n",
    "# Delete these row indexes from dataFrame\n",
    "data2.drop(indexNames , inplace=True)"
   ]
  },
  {
   "cell_type": "markdown",
   "id": "b76c7a0a",
   "metadata": {
    "papermill": {
     "duration": 0.00643,
     "end_time": "2022-06-16T13:43:42.519284",
     "exception": false,
     "start_time": "2022-06-16T13:43:42.512854",
     "status": "completed"
    },
    "tags": []
   },
   "source": [
    "Feature extraction"
   ]
  },
  {
   "cell_type": "code",
   "execution_count": 6,
   "id": "3710d8d1",
   "metadata": {
    "execution": {
     "iopub.execute_input": "2022-06-16T13:43:42.534771Z",
     "iopub.status.busy": "2022-06-16T13:43:42.534399Z",
     "iopub.status.idle": "2022-06-16T13:43:43.512046Z",
     "shell.execute_reply": "2022-06-16T13:43:43.510787Z"
    },
    "papermill": {
     "duration": 0.988458,
     "end_time": "2022-06-16T13:43:43.514628",
     "exception": false,
     "start_time": "2022-06-16T13:43:42.526170",
     "status": "completed"
    },
    "tags": []
   },
   "outputs": [
    {
     "data": {
      "text/html": [
       "<div>\n",
       "<style scoped>\n",
       "    .dataframe tbody tr th:only-of-type {\n",
       "        vertical-align: middle;\n",
       "    }\n",
       "\n",
       "    .dataframe tbody tr th {\n",
       "        vertical-align: top;\n",
       "    }\n",
       "\n",
       "    .dataframe thead th {\n",
       "        text-align: right;\n",
       "    }\n",
       "</style>\n",
       "<table border=\"1\" class=\"dataframe\">\n",
       "  <thead>\n",
       "    <tr style=\"text-align: right;\">\n",
       "      <th></th>\n",
       "      <th>url</th>\n",
       "      <th>type</th>\n",
       "      <th>Category</th>\n",
       "    </tr>\n",
       "  </thead>\n",
       "  <tbody>\n",
       "    <tr>\n",
       "      <th>0</th>\n",
       "      <td>br-icloud.com.br</td>\n",
       "      <td>phishing</td>\n",
       "      <td>1</td>\n",
       "    </tr>\n",
       "    <tr>\n",
       "      <th>1</th>\n",
       "      <td>mp3raid.com/music/krizz_kaliko.html</td>\n",
       "      <td>benign</td>\n",
       "      <td>0</td>\n",
       "    </tr>\n",
       "    <tr>\n",
       "      <th>2</th>\n",
       "      <td>bopsecrets.org/rexroth/cr/1.htm</td>\n",
       "      <td>benign</td>\n",
       "      <td>0</td>\n",
       "    </tr>\n",
       "    <tr>\n",
       "      <th>5</th>\n",
       "      <td>http://buzzfil.net/m/show-art/ils-etaient-loin...</td>\n",
       "      <td>benign</td>\n",
       "      <td>0</td>\n",
       "    </tr>\n",
       "    <tr>\n",
       "      <th>6</th>\n",
       "      <td>espn.go.com/nba/player/_/id/3457/brandon-rush</td>\n",
       "      <td>benign</td>\n",
       "      <td>0</td>\n",
       "    </tr>\n",
       "    <tr>\n",
       "      <th>7</th>\n",
       "      <td>yourbittorrent.com/?q=anthony-hamilton-soulife</td>\n",
       "      <td>benign</td>\n",
       "      <td>0</td>\n",
       "    </tr>\n",
       "    <tr>\n",
       "      <th>9</th>\n",
       "      <td>allmusic.com/album/crazy-from-the-heat-r16990</td>\n",
       "      <td>benign</td>\n",
       "      <td>0</td>\n",
       "    </tr>\n",
       "    <tr>\n",
       "      <th>10</th>\n",
       "      <td>corporationwiki.com/Ohio/Columbus/frank-s-bens...</td>\n",
       "      <td>benign</td>\n",
       "      <td>0</td>\n",
       "    </tr>\n",
       "    <tr>\n",
       "      <th>12</th>\n",
       "      <td>myspace.com/video/vid/30602581</td>\n",
       "      <td>benign</td>\n",
       "      <td>0</td>\n",
       "    </tr>\n",
       "    <tr>\n",
       "      <th>16</th>\n",
       "      <td>quickfacts.census.gov/qfd/maps/iowa_map.html</td>\n",
       "      <td>benign</td>\n",
       "      <td>0</td>\n",
       "    </tr>\n",
       "    <tr>\n",
       "      <th>17</th>\n",
       "      <td>nugget.ca/ArticleDisplay.aspx?archive=true&amp;e=1...</td>\n",
       "      <td>benign</td>\n",
       "      <td>0</td>\n",
       "    </tr>\n",
       "    <tr>\n",
       "      <th>18</th>\n",
       "      <td>uk.linkedin.com/pub/steve-rubenstein/8/718/755</td>\n",
       "      <td>benign</td>\n",
       "      <td>0</td>\n",
       "    </tr>\n",
       "    <tr>\n",
       "      <th>20</th>\n",
       "      <td>baseball-reference.com/players/h/harrige01.shtml</td>\n",
       "      <td>benign</td>\n",
       "      <td>0</td>\n",
       "    </tr>\n",
       "    <tr>\n",
       "      <th>21</th>\n",
       "      <td>signin.eby.de.zukruygxctzmmqi.civpro.co.za</td>\n",
       "      <td>phishing</td>\n",
       "      <td>1</td>\n",
       "    </tr>\n",
       "    <tr>\n",
       "      <th>22</th>\n",
       "      <td>192.com/atoz/people/oakley/patrick/</td>\n",
       "      <td>benign</td>\n",
       "      <td>0</td>\n",
       "    </tr>\n",
       "    <tr>\n",
       "      <th>23</th>\n",
       "      <td>nytimes.com/1998/03/29/style/cuttings-oh-that-...</td>\n",
       "      <td>benign</td>\n",
       "      <td>0</td>\n",
       "    </tr>\n",
       "    <tr>\n",
       "      <th>24</th>\n",
       "      <td>escholarship.org/uc/item/5xt4952c</td>\n",
       "      <td>benign</td>\n",
       "      <td>0</td>\n",
       "    </tr>\n",
       "    <tr>\n",
       "      <th>25</th>\n",
       "      <td>songfacts.com/detail.php?id=13410</td>\n",
       "      <td>benign</td>\n",
       "      <td>0</td>\n",
       "    </tr>\n",
       "    <tr>\n",
       "      <th>26</th>\n",
       "      <td>casamanana.org/education/blba/</td>\n",
       "      <td>benign</td>\n",
       "      <td>0</td>\n",
       "    </tr>\n",
       "    <tr>\n",
       "      <th>27</th>\n",
       "      <td>http://hollywoodlife.com/2014/05/01/rihanna-ih...</td>\n",
       "      <td>benign</td>\n",
       "      <td>0</td>\n",
       "    </tr>\n",
       "  </tbody>\n",
       "</table>\n",
       "</div>"
      ],
      "text/plain": [
       "                                                  url      type  Category\n",
       "0                                    br-icloud.com.br  phishing         1\n",
       "1                 mp3raid.com/music/krizz_kaliko.html    benign         0\n",
       "2                     bopsecrets.org/rexroth/cr/1.htm    benign         0\n",
       "5   http://buzzfil.net/m/show-art/ils-etaient-loin...    benign         0\n",
       "6       espn.go.com/nba/player/_/id/3457/brandon-rush    benign         0\n",
       "7      yourbittorrent.com/?q=anthony-hamilton-soulife    benign         0\n",
       "9       allmusic.com/album/crazy-from-the-heat-r16990    benign         0\n",
       "10  corporationwiki.com/Ohio/Columbus/frank-s-bens...    benign         0\n",
       "12                     myspace.com/video/vid/30602581    benign         0\n",
       "16       quickfacts.census.gov/qfd/maps/iowa_map.html    benign         0\n",
       "17  nugget.ca/ArticleDisplay.aspx?archive=true&e=1...    benign         0\n",
       "18     uk.linkedin.com/pub/steve-rubenstein/8/718/755    benign         0\n",
       "20   baseball-reference.com/players/h/harrige01.shtml    benign         0\n",
       "21         signin.eby.de.zukruygxctzmmqi.civpro.co.za  phishing         1\n",
       "22                192.com/atoz/people/oakley/patrick/    benign         0\n",
       "23  nytimes.com/1998/03/29/style/cuttings-oh-that-...    benign         0\n",
       "24                  escholarship.org/uc/item/5xt4952c    benign         0\n",
       "25                  songfacts.com/detail.php?id=13410    benign         0\n",
       "26                     casamanana.org/education/blba/    benign         0\n",
       "27  http://hollywoodlife.com/2014/05/01/rihanna-ih...    benign         0"
      ]
     },
     "execution_count": 6,
     "metadata": {},
     "output_type": "execute_result"
    }
   ],
   "source": [
    "data2['url'] = data2['url'].replace('www.', '', regex=True)\n",
    "rem = {\"Category\": {\"benign\": 0,  \"phishing\":1}}\n",
    "data2['Category'] = data2['type']\n",
    "data2 = data2.replace(rem)\n",
    "data2.head(20)"
   ]
  },
  {
   "cell_type": "code",
   "execution_count": 6,
   "id": "97be3a84",
   "metadata": {
    "execution": {
     "iopub.execute_input": "2022-06-16T13:43:43.531182Z",
     "iopub.status.busy": "2022-06-16T13:43:43.530283Z",
     "iopub.status.idle": "2022-06-16T13:43:43.797366Z",
     "shell.execute_reply": "2022-06-16T13:43:43.796518Z"
    },
    "papermill": {
     "duration": 0.277711,
     "end_time": "2022-06-16T13:43:43.799683",
     "exception": false,
     "start_time": "2022-06-16T13:43:43.521972",
     "status": "completed"
    },
    "tags": []
   },
   "outputs": [],
   "source": [
    "data2['url_len'] = data2['url'].apply(lambda x: len(str(x)))"
   ]
  },
  {
   "cell_type": "code",
   "execution_count": 7,
   "id": "36a44079",
   "metadata": {
    "execution": {
     "iopub.execute_input": "2022-06-16T13:43:43.815752Z",
     "iopub.status.busy": "2022-06-16T13:43:43.815384Z",
     "iopub.status.idle": "2022-06-16T13:43:51.565264Z",
     "shell.execute_reply": "2022-06-16T13:43:51.564215Z"
    },
    "papermill": {
     "duration": 7.760846,
     "end_time": "2022-06-16T13:43:51.567582",
     "exception": false,
     "start_time": "2022-06-16T13:43:43.806736",
     "status": "completed"
    },
    "tags": []
   },
   "outputs": [],
   "source": [
    "def process_tld(url):\n",
    "    try:\n",
    "#         Extract the top level domain (TLD) \n",
    "        res = get_tld(url, as_object = True, fail_silently=False,fix_protocol=True)\n",
    "        pri_domain= res.parsed_url.netloc\n",
    "    except :\n",
    "        pri_domain= None\n",
    "    return pri_domain\n",
    "\n",
    "data2['domain'] = data2['url'].apply(lambda i: process_tld(i))"
   ]
  },
  {
   "cell_type": "code",
   "execution_count": 8,
   "id": "2902c010",
   "metadata": {
    "execution": {
     "iopub.execute_input": "2022-06-16T13:43:51.583556Z",
     "iopub.status.busy": "2022-06-16T13:43:51.583174Z",
     "iopub.status.idle": "2022-06-16T13:43:55.144314Z",
     "shell.execute_reply": "2022-06-16T13:43:55.143301Z"
    },
    "papermill": {
     "duration": 3.572176,
     "end_time": "2022-06-16T13:43:55.147044",
     "exception": false,
     "start_time": "2022-06-16T13:43:51.574868",
     "status": "completed"
    },
    "tags": []
   },
   "outputs": [],
   "source": [
    "feature = ['@','?','-','=','.','#','%','+','$','!','*',',','//']\n",
    "for a in feature:\n",
    "    data2[a] = data2['url'].apply(lambda i: i.count(a))"
   ]
  },
  {
   "cell_type": "code",
   "execution_count": 9,
   "id": "b88cb31c",
   "metadata": {
    "execution": {
     "iopub.execute_input": "2022-06-16T13:43:55.164373Z",
     "iopub.status.busy": "2022-06-16T13:43:55.163367Z",
     "iopub.status.idle": "2022-06-16T13:44:00.896046Z",
     "shell.execute_reply": "2022-06-16T13:44:00.895147Z"
    },
    "papermill": {
     "duration": 5.744058,
     "end_time": "2022-06-16T13:44:00.898390",
     "exception": false,
     "start_time": "2022-06-16T13:43:55.154332",
     "status": "completed"
    },
    "tags": []
   },
   "outputs": [],
   "source": [
    "def abnormal_url(url):\n",
    "    hostname = urlparse(url).hostname\n",
    "   ## print(hostname)\n",
    "    hostname = str(hostname)\n",
    "   # print(hostname)\n",
    "    match = re.search(hostname, url)\n",
    "    if match:\n",
    "        # print match.group()\n",
    "        return 1\n",
    "    else:\n",
    "        # print 'No matching pattern found'\n",
    "        return 0\n",
    "\n",
    "data2['abnormal_url'] = data2['url'].apply(lambda i: abnormal_url(i))"
   ]
  },
  {
   "cell_type": "code",
   "execution_count": 10,
   "id": "155ee231",
   "metadata": {
    "execution": {
     "iopub.execute_input": "2022-06-16T13:44:00.914369Z",
     "iopub.status.busy": "2022-06-16T13:44:00.913978Z",
     "iopub.status.idle": "2022-06-16T13:44:03.860624Z",
     "shell.execute_reply": "2022-06-16T13:44:03.859619Z"
    },
    "papermill": {
     "duration": 2.957429,
     "end_time": "2022-06-16T13:44:03.863057",
     "exception": false,
     "start_time": "2022-06-16T13:44:00.905628",
     "status": "completed"
    },
    "tags": []
   },
   "outputs": [],
   "source": [
    "def httpSecure(url):\n",
    "    htp = urlparse(url).scheme #It supports the following URL schemes: file , ftp , gopher , hdl , \n",
    "                               #http , https ... from urllib.parse\n",
    "    match = str(htp)\n",
    "    if match=='https':\n",
    "        # print match.group()\n",
    "        return 1\n",
    "    else:\n",
    "        # print 'No matching pattern found'\n",
    "        return 0\n",
    "data2['https'] = data2['url'].apply(lambda i: httpSecure(i))"
   ]
  },
  {
   "cell_type": "code",
   "execution_count": 11,
   "id": "bb6fad29",
   "metadata": {
    "execution": {
     "iopub.execute_input": "2022-06-16T13:44:03.880202Z",
     "iopub.status.busy": "2022-06-16T13:44:03.879761Z",
     "iopub.status.idle": "2022-06-16T13:44:04.114101Z",
     "shell.execute_reply": "2022-06-16T13:44:04.113362Z"
    },
    "papermill": {
     "duration": 0.244489,
     "end_time": "2022-06-16T13:44:04.115865",
     "exception": false,
     "start_time": "2022-06-16T13:44:03.871376",
     "status": "completed"
    },
    "tags": []
   },
   "outputs": [
    {
     "data": {
      "image/png": "[encoded data removed]",
      "text/plain": [
       "<Figure size 432x288 with 1 Axes>"
      ]
     },
     "metadata": {
      "needs_background": "light"
     },
     "output_type": "display_data"
    }
   ],
   "source": [
    "sns.countplot(x='https', data=data2);"
   ]
  },
  {
   "cell_type": "markdown",
   "id": "2f564814",
   "metadata": {
    "papermill": {
     "duration": 0.007164,
     "end_time": "2022-06-16T13:44:04.130281",
     "exception": false,
     "start_time": "2022-06-16T13:44:04.123117",
     "status": "completed"
    },
    "tags": []
   },
   "source": [
    "well, unbalanced dataset ! \n"
   ]
  },
  {
   "cell_type": "code",
   "execution_count": 12,
   "id": "e356fb6f",
   "metadata": {
    "execution": {
     "iopub.execute_input": "2022-06-16T13:44:04.146447Z",
     "iopub.status.busy": "2022-06-16T13:44:04.146020Z",
     "iopub.status.idle": "2022-06-16T13:44:05.973003Z",
     "shell.execute_reply": "2022-06-16T13:44:05.972021Z"
    },
    "papermill": {
     "duration": 1.837803,
     "end_time": "2022-06-16T13:44:05.975231",
     "exception": false,
     "start_time": "2022-06-16T13:44:04.137428",
     "status": "completed"
    },
    "tags": []
   },
   "outputs": [],
   "source": [
    "def digit_count(url):\n",
    "    digits = 0\n",
    "    for i in url:\n",
    "        if i.isnumeric():\n",
    "            digits = digits + 1\n",
    "    return digits\n",
    "data2['digits']= data2['url'].apply(lambda i: digit_count(i))"
   ]
  },
  {
   "cell_type": "code",
   "execution_count": 13,
   "id": "d62e8f59",
   "metadata": {
    "execution": {
     "iopub.execute_input": "2022-06-16T13:44:05.992376Z",
     "iopub.status.busy": "2022-06-16T13:44:05.991523Z",
     "iopub.status.idle": "2022-06-16T13:44:05.996410Z",
     "shell.execute_reply": "2022-06-16T13:44:05.995453Z"
    },
    "papermill": {
     "duration": 0.015524,
     "end_time": "2022-06-16T13:44:05.998503",
     "exception": false,
     "start_time": "2022-06-16T13:44:05.982979",
     "status": "completed"
    },
    "tags": []
   },
   "outputs": [],
   "source": [
    "def letter_count(url):\n",
    "    letters = 0\n",
    "    for i in url:\n",
    "        if i.isalpha():\n",
    "            letters = letters + 1\n",
    "    return letters\n"
   ]
  },
  {
   "cell_type": "code",
   "execution_count": 14,
   "id": "6c0ca3b1",
   "metadata": {
    "execution": {
     "iopub.execute_input": "2022-06-16T13:44:06.016087Z",
     "iopub.status.busy": "2022-06-16T13:44:06.015438Z",
     "iopub.status.idle": "2022-06-16T13:44:08.261736Z",
     "shell.execute_reply": "2022-06-16T13:44:08.260554Z"
    },
    "papermill": {
     "duration": 2.258197,
     "end_time": "2022-06-16T13:44:08.264360",
     "exception": false,
     "start_time": "2022-06-16T13:44:06.006163",
     "status": "completed"
    },
    "tags": []
   },
   "outputs": [],
   "source": [
    "data2['letters']= data2['url'].apply(lambda i: letter_count(i))"
   ]
  },
  {
   "cell_type": "code",
   "execution_count": 15,
   "id": "9c158e64",
   "metadata": {
    "execution": {
     "iopub.execute_input": "2022-06-16T13:44:08.282497Z",
     "iopub.status.busy": "2022-06-16T13:44:08.282046Z",
     "iopub.status.idle": "2022-06-16T13:44:13.715358Z",
     "shell.execute_reply": "2022-06-16T13:44:13.714078Z"
    },
    "papermill": {
     "duration": 5.44618,
     "end_time": "2022-06-16T13:44:13.718501",
     "exception": false,
     "start_time": "2022-06-16T13:44:08.272321",
     "status": "completed"
    },
    "tags": []
   },
   "outputs": [],
   "source": [
    "def Shortining_Service(url):\n",
    "    match = re.search('bit\\.ly|goo\\.gl|shorte\\.st|go2l\\.ink|x\\.co|ow\\.ly|t\\.co|tinyurl|tr\\.im|is\\.gd|cli\\.gs|'\n",
    "                      'yfrog\\.com|migre\\.me|ff\\.im|tiny\\.cc|url4\\.eu|twit\\.ac|su\\.pr|twurl\\.nl|snipurl\\.com|'\n",
    "                      'short\\.to|BudURL\\.com|ping\\.fm|post\\.ly|Just\\.as|bkite\\.com|snipr\\.com|fic\\.kr|loopt\\.us|'\n",
    "                      'doiop\\.com|short\\.ie|kl\\.am|wp\\.me|rubyurl\\.com|om\\.ly|to\\.ly|bit\\.do|t\\.co|lnkd\\.in|'\n",
    "                      'db\\.tt|qr\\.ae|adf\\.ly|goo\\.gl|bitly\\.com|cur\\.lv|tinyurl\\.com|ow\\.ly|bit\\.ly|ity\\.im|'\n",
    "                      'q\\.gs|is\\.gd|po\\.st|bc\\.vc|twitthis\\.com|u\\.to|j\\.mp|buzurl\\.com|cutt\\.us|u\\.bb|yourls\\.org|'\n",
    "                      'x\\.co|prettylinkpro\\.com|scrnch\\.me|filoops\\.info|vzturl\\.com|qr\\.net|1url\\.com|tweez\\.me|v\\.gd|'\n",
    "                      'tr\\.im|link\\.zip\\.net',\n",
    "                      url)\n",
    "    if match:\n",
    "        return 1\n",
    "    else:\n",
    "        return 0\n",
    "    \n",
    "data2['Shortining_Service'] = data2['url'].apply(lambda x: Shortining_Service(x))"
   ]
  },
  {
   "cell_type": "code",
   "execution_count": 16,
   "id": "0c8d7973",
   "metadata": {
    "execution": {
     "iopub.execute_input": "2022-06-16T13:44:13.737423Z",
     "iopub.status.busy": "2022-06-16T13:44:13.736951Z",
     "iopub.status.idle": "2022-06-16T13:44:23.902509Z",
     "shell.execute_reply": "2022-06-16T13:44:23.901407Z"
    },
    "papermill": {
     "duration": 10.178052,
     "end_time": "2022-06-16T13:44:23.905052",
     "exception": false,
     "start_time": "2022-06-16T13:44:13.727000",
     "status": "completed"
    },
    "tags": []
   },
   "outputs": [],
   "source": [
    "def having_ip_address(url):\n",
    "    match = re.search(\n",
    "        '(([01]?\\\\d\\\\d?|2[0-4]\\\\d|25[0-5])\\\\.([01]?\\\\d\\\\d?|2[0-4]\\\\d|25[0-5])\\\\.([01]?\\\\d\\\\d?|2[0-4]\\\\d|25[0-5])\\\\.'\n",
    "        '([01]?\\\\d\\\\d?|2[0-4]\\\\d|25[0-5])\\\\/)|'  # IPv4\n",
    "        '(([01]?\\\\d\\\\d?|2[0-4]\\\\d|25[0-5])\\\\.([01]?\\\\d\\\\d?|2[0-4]\\\\d|25[0-5])\\\\.([01]?\\\\d\\\\d?|2[0-4]\\\\d|25[0-5])\\\\.'\n",
    "        '([01]?\\\\d\\\\d?|2[0-4]\\\\d|25[0-5])\\\\/)|'  # IPv4 with port\n",
    "        '((0x[0-9a-fA-F]{1,2})\\\\.(0x[0-9a-fA-F]{1,2})\\\\.(0x[0-9a-fA-F]{1,2})\\\\.(0x[0-9a-fA-F]{1,2})\\\\/)' # IPv4 in hexadecimal\n",
    "        '(?:[a-fA-F0-9]{1,4}:){7}[a-fA-F0-9]{1,4}|'\n",
    "        '([0-9]+(?:\\.[0-9]+){3}:[0-9]+)|'\n",
    "        '((?:(?:\\d|[01]?\\d\\d|2[0-4]\\d|25[0-5])\\.){3}(?:25[0-5]|2[0-4]\\d|[01]?\\d\\d|\\d)(?:\\/\\d{1,2})?)', url)  # Ipv6\n",
    "    if match:\n",
    "        return 1\n",
    "    else:\n",
    "        return 0\n",
    "data2['having_ip_address'] = data2['url'].apply(lambda i: having_ip_address(i))"
   ]
  },
  {
   "cell_type": "code",
   "execution_count": null,
   "id": "9e78184d",
   "metadata": {
    "papermill": {
     "duration": 0.007172,
     "end_time": "2022-06-16T13:44:23.919821",
     "exception": false,
     "start_time": "2022-06-16T13:44:23.912649",
     "status": "completed"
    },
    "tags": []
   },
   "outputs": [],
   "source": []
  },
  {
   "cell_type": "markdown",
   "id": "f725aa8c",
   "metadata": {
    "papermill": {
     "duration": 0.007096,
     "end_time": "2022-06-16T13:44:23.934381",
     "exception": false,
     "start_time": "2022-06-16T13:44:23.927285",
     "status": "completed"
    },
    "tags": []
   },
   "source": [
    "on commence l'entrainement"
   ]
  },
  {
   "cell_type": "code",
   "execution_count": 17,
   "id": "c9c26be4",
   "metadata": {
    "execution": {
     "iopub.execute_input": "2022-06-16T13:44:23.951652Z",
     "iopub.status.busy": "2022-06-16T13:44:23.950778Z",
     "iopub.status.idle": "2022-06-16T13:44:24.127741Z",
     "shell.execute_reply": "2022-06-16T13:44:24.126908Z"
    },
    "papermill": {
     "duration": 0.187958,
     "end_time": "2022-06-16T13:44:24.130096",
     "exception": false,
     "start_time": "2022-06-16T13:44:23.942138",
     "status": "completed"
    },
    "tags": []
   },
   "outputs": [],
   "source": [
    "X = data2.drop(['url','type','Category','domain'],axis=1)#,'type_code'\n",
    "y = data2['Category']"
   ]
  },
  {
   "cell_type": "code",
   "execution_count": 18,
   "id": "d208b90a",
   "metadata": {
    "execution": {
     "iopub.execute_input": "2022-06-16T13:44:24.147636Z",
     "iopub.status.busy": "2022-06-16T13:44:24.146907Z",
     "iopub.status.idle": "2022-06-16T13:44:24.317829Z",
     "shell.execute_reply": "2022-06-16T13:44:24.316790Z"
    },
    "papermill": {
     "duration": 0.182523,
     "end_time": "2022-06-16T13:44:24.320032",
     "exception": false,
     "start_time": "2022-06-16T13:44:24.137509",
     "status": "completed"
    },
    "tags": []
   },
   "outputs": [],
   "source": [
    "X_train, X_test, y_train, y_test = train_test_split(X, y, test_size=0.2, random_state=2)"
   ]
  },
  {
   "cell_type": "code",
   "execution_count": 39,
   "id": "56425c79",
   "metadata": {},
   "outputs": [
    {
     "data": {
      "text/plain": [
       "Index(['@', '?', '-', '=', '.', '#', '%', '+', '$', '!', '*', ',', '//',\n",
       "       'abnormal_url', 'https', 'digits', 'letters', 'Shortining_Service',\n",
       "       'having_ip_address'],\n",
       "      dtype='object')"
      ]
     },
     "execution_count": 39,
     "metadata": {},
     "output_type": "execute_result"
    }
   ],
   "source": [
    "X_train.columns"
   ]
  },
  {
   "cell_type": "code",
   "execution_count": 19,
   "id": "ff544d6b",
   "metadata": {
    "execution": {
     "iopub.execute_input": "2022-06-16T13:44:24.336235Z",
     "iopub.status.busy": "2022-06-16T13:44:24.335872Z",
     "iopub.status.idle": "2022-06-16T13:45:29.257534Z",
     "shell.execute_reply": "2022-06-16T13:45:29.256881Z"
    },
    "papermill": {
     "duration": 64.933296,
     "end_time": "2022-06-16T13:45:29.260732",
     "exception": false,
     "start_time": "2022-06-16T13:44:24.327436",
     "status": "completed"
    },
    "tags": []
   },
   "outputs": [
    {
     "name": "stdout",
     "output_type": "stream",
     "text": [
      "#############################################\n",
      "######-Model =>\u001b[07m <class 'sklearn.tree._classes.DecisionTreeClassifier'> \u001b[0m\n",
      "Test Accuracy :\u001b[32m \u001b[01m 87.15% \u001b[30m \u001b[0m\n",
      "\u001b[01m              Classification_report \u001b[0m\n",
      "              precision    recall  f1-score   support\n",
      "\n",
      "           0       0.87      0.98      0.93     85626\n",
      "           1       0.83      0.36      0.50     18817\n",
      "\n",
      "    accuracy                           0.87    104443\n",
      "   macro avg       0.85      0.67      0.71    104443\n",
      "weighted avg       0.87      0.87      0.85    104443\n",
      "\n",
      "\u001b[01m             Confusion_matrix \u001b[0m\n"
     ]
    },
    {
     "data": {
      "image/png": "[encoded data removed]",
      "text/plain": [
       "<Figure size 432x288 with 2 Axes>"
      ]
     },
     "metadata": {
      "needs_background": "light"
     },
     "output_type": "display_data"
    },
    {
     "name": "stdout",
     "output_type": "stream",
     "text": [
      "\u001b[31m###################- End -###################\u001b[0m\n",
      "#############################################\n",
      "######-Model =>\u001b[07m <class 'sklearn.ensemble._forest.RandomForestClassifier'> \u001b[0m\n",
      "Test Accuracy :\u001b[32m \u001b[01m 87.43% \u001b[30m \u001b[0m\n",
      "\u001b[01m              Classification_report \u001b[0m\n",
      "              precision    recall  f1-score   support\n",
      "\n",
      "           0       0.88      0.99      0.93     85626\n",
      "           1       0.86      0.36      0.51     18817\n",
      "\n",
      "    accuracy                           0.87    104443\n",
      "   macro avg       0.87      0.67      0.72    104443\n",
      "weighted avg       0.87      0.87      0.85    104443\n",
      "\n",
      "\u001b[01m             Confusion_matrix \u001b[0m\n"
     ]
    },
    {
     "data": {
      "image/png": "[encoded data removed]",
      "text/plain": [
       "<Figure size 432x288 with 2 Axes>"
      ]
     },
     "metadata": {
      "needs_background": "light"
     },
     "output_type": "display_data"
    },
    {
     "name": "stdout",
     "output_type": "stream",
     "text": [
      "\u001b[31m###################- End -###################\u001b[0m\n",
      "#############################################\n",
      "######-Model =>\u001b[07m <class 'sklearn.linear_model._stochastic_gradient.SGDClassifier'> \u001b[0m\n",
      "Test Accuracy :\u001b[32m \u001b[01m 85.02% \u001b[30m \u001b[0m\n",
      "\u001b[01m              Classification_report \u001b[0m\n",
      "              precision    recall  f1-score   support\n",
      "\n",
      "           0       0.85      1.00      0.92     85626\n",
      "           1       0.97      0.17      0.29     18817\n",
      "\n",
      "    accuracy                           0.85    104443\n",
      "   macro avg       0.91      0.59      0.60    104443\n",
      "weighted avg       0.87      0.85      0.80    104443\n",
      "\n",
      "\u001b[01m             Confusion_matrix \u001b[0m\n"
     ]
    },
    {
     "data": {
      "image/png": "[encoded data removed]",
      "text/plain": [
       "<Figure size 432x288 with 2 Axes>"
      ]
     },
     "metadata": {
      "needs_background": "light"
     },
     "output_type": "display_data"
    },
    {
     "name": "stdout",
     "output_type": "stream",
     "text": [
      "\u001b[31m###################- End -###################\u001b[0m\n"
     ]
    }
   ],
   "source": [
    "from sklearn.metrics import plot_confusion_matrix\n",
    "from sklearn.metrics import plot_roc_curve\n",
    "models = [DecisionTreeClassifier,RandomForestClassifier,SGDClassifier]\n",
    "accuracy_test=[]\n",
    "for m in models:\n",
    "    print('#############################################')\n",
    "    print('######-Model =>\\033[07m {} \\033[0m'.format(m))\n",
    "    model_ = m()\n",
    "    model_.fit(X_train, y_train)\n",
    "    pred = model_.predict(X_test)\n",
    "    acc = accuracy_score(pred, y_test)\n",
    "    accuracy_test.append(acc)\n",
    "    print('Test Accuracy :\\033[32m \\033[01m {:.2f}% \\033[30m \\033[0m'.format(acc*100))\n",
    "    print('\\033[01m              Classification_report \\033[0m')\n",
    "    print(classification_report(y_test, pred))\n",
    "    print('\\033[01m             Confusion_matrix \\033[0m')\n",
    "    cf_matrix = confusion_matrix(y_test, pred)\n",
    "    plot_ = sns.heatmap(cf_matrix/np.sum(cf_matrix), annot=True,fmt= '0.2%')\n",
    "    plt.show()\n",
    "    print('\\033[31m###################- End -###################\\033[0m')\n",
    "    \n"
   ]
  },
  {
   "cell_type": "code",
   "execution_count": 20,
   "id": "8a616d3e",
   "metadata": {
    "execution": {
     "iopub.execute_input": "2022-06-16T13:45:29.281325Z",
     "iopub.status.busy": "2022-06-16T13:45:29.280442Z",
     "iopub.status.idle": "2022-06-16T13:45:29.285956Z",
     "shell.execute_reply": "2022-06-16T13:45:29.284938Z"
    },
    "papermill": {
     "duration": 0.017206,
     "end_time": "2022-06-16T13:45:29.287856",
     "exception": false,
     "start_time": "2022-06-16T13:45:29.270650",
     "status": "completed"
    },
    "tags": []
   },
   "outputs": [],
   "source": [
    "output = pd.DataFrame({\"Model\":['Decision Tree Classifier','Random Forest Classifier',\n",
    "                                'KNeighbors Classifier'],\n",
    "                      \"Accuracy\":accuracy_test})"
   ]
  },
  {
   "cell_type": "code",
   "execution_count": 21,
   "id": "2ac6755f",
   "metadata": {
    "execution": {
     "iopub.execute_input": "2022-06-16T13:45:29.307355Z",
     "iopub.status.busy": "2022-06-16T13:45:29.306806Z",
     "iopub.status.idle": "2022-06-16T13:45:29.488098Z",
     "shell.execute_reply": "2022-06-16T13:45:29.487157Z"
    },
    "papermill": {
     "duration": 0.193833,
     "end_time": "2022-06-16T13:45:29.490361",
     "exception": false,
     "start_time": "2022-06-16T13:45:29.296528",
     "status": "completed"
    },
    "tags": []
   },
   "outputs": [
    {
     "data": {
      "image/png": "[encoded data removed]",
      "text/plain": [
       "<Figure size 720x360 with 1 Axes>"
      ]
     },
     "metadata": {
      "needs_background": "light"
     },
     "output_type": "display_data"
    }
   ],
   "source": [
    "plt.figure(figsize=(10, 5))\n",
    "plots = sns.barplot(x='Model', y='Accuracy', data=output)\n",
    "for bar in plots.patches:\n",
    "    plots.annotate(format(bar.get_height(), '.2f'),\n",
    "                   (bar.get_x() + bar.get_width() / 2,\n",
    "                    bar.get_height()), ha='center', va='center',\n",
    "                   size=15, xytext=(0, 8),\n",
    "                   textcoords='offset points')\n",
    "\n",
    "plt.xlabel(\"Models\", size=14)\n",
    "plt.xticks(rotation=20);\n",
    "plt.ylabel(\"Accuracy\", size=14)\n",
    "plt.show()"
   ]
  },
  {
   "cell_type": "markdown",
   "id": "940f0062",
   "metadata": {
    "papermill": {
     "duration": 0.008748,
     "end_time": "2022-06-16T13:45:29.508523",
     "exception": false,
     "start_time": "2022-06-16T13:45:29.499775",
     "status": "completed"
    },
    "tags": []
   },
   "source": [
    "On regroupe tous ce qu'on a fait dans une fonction"
   ]
  },
  {
   "cell_type": "code",
   "execution_count": 40,
   "id": "a5921ce7",
   "metadata": {
    "execution": {
     "iopub.execute_input": "2022-06-16T13:45:29.528300Z",
     "iopub.status.busy": "2022-06-16T13:45:29.527890Z",
     "iopub.status.idle": "2022-06-16T13:45:29.537070Z",
     "shell.execute_reply": "2022-06-16T13:45:29.536094Z"
    },
    "papermill": {
     "duration": 0.021333,
     "end_time": "2022-06-16T13:45:29.538867",
     "exception": false,
     "start_time": "2022-06-16T13:45:29.517534",
     "status": "completed"
    },
    "tags": []
   },
   "outputs": [],
   "source": [
    "def URL_Converter(urls):\n",
    "    data= pd.DataFrame()\n",
    "    data['url'] = pd.Series(urls)\n",
    "\n",
    "    \n",
    "    data['domain'] = data['url'].apply(lambda i: process_tld(i))\n",
    "    feature = ['@','?','-','=','.','#','%','+','$','!','*',',','//']\n",
    "    for a in feature:\n",
    "        data[a] = data['url'].apply(lambda i: i.count(a))  \n",
    "    data['abnormal_url'] = data['url'].apply(lambda i: abnormal_url(i))\n",
    "    data['https'] = data['url'].apply(lambda i: httpSecure(i))\n",
    "    data['digits']= data['url'].apply(lambda i: digit_count(i))\n",
    "    data['letters']= data['url'].apply(lambda i: letter_count(i))\n",
    "    data['Shortining_Service'] = data['url'].apply(lambda x: Shortining_Service(x))\n",
    "    data['having_ip_address'] = data['url'].apply(lambda i: having_ip_address(i))\n",
    "    print(data.columns)\n",
    "    X = data.drop(['url','domain'],axis=1)\n",
    "    '''ArithmeticErrorIndex(['@', '?', '-', '=', '.', '#', '%', '+', '$', '!', '*', ',', '//',\n",
    "       'abnormal_url', 'https', 'digits', 'letters', 'Shortining_Service',\n",
    "       'having_ip_address'],'''\n",
    "\n",
    "    return X"
   ]
  },
  {
   "cell_type": "markdown",
   "id": "9b9b1907",
   "metadata": {
    "papermill": {
     "duration": 0.008161,
     "end_time": "2022-06-16T13:45:29.555578",
     "exception": false,
     "start_time": "2022-06-16T13:45:29.547417",
     "status": "completed"
    },
    "tags": []
   },
   "source": [
    "on teste sur ces nouveaux liens"
   ]
  },
  {
   "cell_type": "code",
   "execution_count": null,
   "id": "1efa45ca",
   "metadata": {},
   "outputs": [],
   "source": [
    "pip install pickle"
   ]
  },
  {
   "cell_type": "code",
   "execution_count": null,
   "id": "e7e4e426",
   "metadata": {
    "papermill": {
     "duration": 0.008544,
     "end_time": "2022-06-16T13:45:29.573055",
     "exception": false,
     "start_time": "2022-06-16T13:45:29.564511",
     "status": "completed"
    },
    "tags": []
   },
   "outputs": [],
   "source": []
  },
  {
   "cell_type": "code",
   "execution_count": 53,
   "id": "9daf83bc",
   "metadata": {
    "execution": {
     "iopub.execute_input": "2022-06-16T13:45:29.592477Z",
     "iopub.status.busy": "2022-06-16T13:45:29.591771Z",
     "iopub.status.idle": "2022-06-16T13:46:32.495237Z",
     "shell.execute_reply": "2022-06-16T13:46:32.493924Z"
    },
    "papermill": {
     "duration": 62.916153,
     "end_time": "2022-06-16T13:46:32.498017",
     "exception": false,
     "start_time": "2022-06-16T13:45:29.581864",
     "status": "completed"
    },
    "tags": []
   },
   "outputs": [
    {
     "name": "stdout",
     "output_type": "stream",
     "text": [
      "Index(['url', 'domain', '@', '?', '-', '=', '.', '#', '%', '+', '$', '!', '*',\n",
      "       ',', '//', 'abnormal_url', 'https', 'digits', 'letters',\n",
      "       'Shortining_Service', 'having_ip_address'],\n",
      "      dtype='object')\n",
      "#############################################\n",
      "######-Model =>\u001b[07m <class 'sklearn.tree._classes.DecisionTreeClassifier'> \u001b[0m\n",
      "[1 1 0 0 1 1]\n",
      "#############################################\n",
      "######-Model =>\u001b[07m <class 'sklearn.ensemble._forest.RandomForestClassifier'> \u001b[0m\n",
      "[1 1 0 0 1 1]\n",
      "#############################################\n",
      "######-Model =>\u001b[07m <class 'sklearn.linear_model._stochastic_gradient.SGDClassifier'> \u001b[0m\n",
      "[1 1 0 0 1 1]\n"
     ]
    }
   ],
   "source": [
    "urls=['https://logistilink.xyz',\n",
    "      'https://iridescent-croquembouche-4b8508.netlify.app/',\n",
    "      'apple-search.info',\n",
    "      'www.itcarezone.com/xlrmp/files/anna.exe',\n",
    "      'https://towardsdatascience.com/',\n",
    "      'https://medium.com/'\n",
    "     ]\n",
    "test_data=URL_Converter(urls)\n",
    "models = [DecisionTreeClassifier,RandomForestClassifier,SGDClassifier]\n",
    "\n",
    "\n",
    "\n",
    "for m in models:\n",
    "    print('#############################################')\n",
    "    print('######-Model =>\\033[07m {} \\033[0m'.format(m))\n",
    "    model_ = m()\n",
    "    model_.fit(X_train, y_train)\n",
    "    pred = model_.predict(test_data)\n",
    "\n",
    "    print(pred)\n",
    "#save models[0] model in pickle\n",
    "model_ = models[0]()\n",
    "model_.fit(X_train, y_train)\n",
    "pred = model_.predict(test_data)\n",
    "model_pkl_file = \"model.pkl\"  \n",
    "with open(model_pkl_file, 'wb') as file:  \n",
    "    pickle.dump(model_, file)\n"
   ]
  },
  {
   "cell_type": "code",
   "execution_count": 42,
   "id": "4489fe53",
   "metadata": {
    "execution": {
     "iopub.execute_input": "2022-06-16T13:46:32.518395Z",
     "iopub.status.busy": "2022-06-16T13:46:32.517983Z",
     "iopub.status.idle": "2022-06-16T13:46:32.528133Z",
     "shell.execute_reply": "2022-06-16T13:46:32.526933Z"
    },
    "papermill": {
     "duration": 0.022483,
     "end_time": "2022-06-16T13:46:32.530181",
     "exception": false,
     "start_time": "2022-06-16T13:46:32.507698",
     "status": "completed"
    },
    "tags": []
   },
   "outputs": [
    {
     "name": "stdout",
     "output_type": "stream",
     "text": [
      "                      Model  Accuracy\n",
      "0  Decision Tree Classifier  0.871471\n",
      "1  Random Forest Classifier  0.874257\n",
      "2             SGDClassifier  0.850177\n"
     ]
    }
   ],
   "source": [
    "output = pd.DataFrame({\"Model\":['Decision Tree Classifier','Random Forest Classifier',\n",
    "                                'SGDClassifier'],\n",
    "                      \"Accuracy\":accuracy_test})\n",
    "print(output)"
   ]
  },
  {
   "cell_type": "code",
   "execution_count": 55,
   "id": "83cbb37b",
   "metadata": {},
   "outputs": [
    {
     "name": "stdout",
     "output_type": "stream",
     "text": [
      "Index(['url', 'domain', '@', '?', '-', '=', '.', '#', '%', '+', '$', '!', '*',\n",
      "       ',', '//', 'abnormal_url', 'https', 'digits', 'letters',\n",
      "       'Shortining_Service', 'having_ip_address'],\n",
      "      dtype='object')\n"
     ]
    },
    {
     "data": {
      "text/plain": [
       "array([[1],\n",
       "       [1],\n",
       "       [0],\n",
       "       [0],\n",
       "       [1],\n",
       "       [1]], dtype=int64)"
      ]
     },
     "execution_count": 55,
     "metadata": {},
     "output_type": "execute_result"
    }
   ],
   "source": [
    "# load model from pickle file\n",
    "with open(model_pkl_file, 'rb') as file:  \n",
    "    model = pickle.load(file)\n",
    "# evaluate model \n",
    "urls = ['https://logistilink.xyz',\n",
    "        'https://iridescent-croquembouche-4b8508.netlify.app/',\n",
    "        'apple-search.info',\n",
    "        'www.itcarezone.com/xlrmp/files/anna.exe',\n",
    "        'https://towardsdatascience.com/',\n",
    "        'https://medium.com/'\n",
    "        ]\n",
    "test_data = URL_Converter(urls)  \n",
    "y_predict = model.predict(test_data)\n",
    "y_predict = y_predict.reshape(-1,1)\n",
    "y_predict"
   ]
  }
 ],
 "metadata": {
  "kernelspec": {
   "display_name": "Python 3",
   "language": "python",
   "name": "python3"
  },
  "language_info": {
   "codemirror_mode": {
    "name": "ipython",
    "version": 3
   },
   "file_extension": ".py",
   "mimetype": "text/x-python",
   "name": "python",
   "nbconvert_exporter": "python",
   "pygments_lexer": "ipython3",
   "version": "3.9.12"
  },
  "papermill": {
   "default_parameters": {},
   "duration": 196.804222,
   "end_time": "2022-06-16T13:46:33.461292",
   "environment_variables": {},
   "exception": null,
   "input_path": "__notebook__.ipynb",
   "output_path": "__notebook__.ipynb",
   "parameters": {},
   "start_time": "2022-06-16T13:43:16.657070",
   "version": "2.3.4"
  }
 },
 "nbformat": 4,
 "nbformat_minor": 5
}
